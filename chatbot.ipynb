{
 "cells": [
  {
   "cell_type": "code",
   "execution_count": null,
   "id": "cb0f1701-7280-44b5-869f-fb749c04ed65",
   "metadata": {},
   "outputs": [
    {
     "name": "stdin",
     "output_type": "stream",
     "text": [
      "You:  hy\n"
     ]
    },
    {
     "name": "stdout",
     "output_type": "stream",
     "text": [
      "Bot: Hello! How can I help you about college queries?\n"
     ]
    },
    {
     "name": "stdin",
     "output_type": "stream",
     "text": [
      "You:  what is the timing of your college\n"
     ]
    },
    {
     "name": "stdout",
     "output_type": "stream",
     "text": [
      "Bot: The semester fee is â‚¹45,000. Hostel is optional.\n"
     ]
    },
    {
     "name": "stdin",
     "output_type": "stream",
     "text": [
      "You:  ok\n"
     ]
    },
    {
     "name": "stdout",
     "output_type": "stream",
     "text": [
      "Bot: Hello! How can I help you about college queries?\n"
     ]
    }
   ],
   "source": [
    "import json\n",
    "import pickle\n",
    "import random\n",
    "\n",
    "# Load model and vectorizer\n",
    "model = pickle.load(open(\"chatbot_model.pkl\", \"rb\"))\n",
    "vectorizer = pickle.load(open(\"vectorizer.pkl\", \"rb\"))\n",
    "\n",
    "# Load intents\n",
    "with open(\"intents.json\") as file:\n",
    "    intents = json.load(file)\n",
    "\n",
    "# Chat function\n",
    "def get_response(user_input):\n",
    "    input_vector = vectorizer.transform([user_input])\n",
    "    tag = model.predict(input_vector)[0]\n",
    "\n",
    "    for intent in intents[\"intents\"]:\n",
    "        if intent[\"tag\"] == tag:\n",
    "            return random.choice(intent[\"responses\"])\n",
    "    return \"Sorry, I didn't understand that.\"\n",
    "\n",
    "# Chat loop\n",
    "while True:\n",
    "    user_input = input(\"You: \")\n",
    "    if user_input.lower() in ['exit', 'quit', 'bye']:\n",
    "        print(\"Bot: Goodbye!\")\n",
    "        break\n",
    "    print(\"Bot:\", get_response(user_input))\n"
   ]
  }
 ],
 "metadata": {
  "kernelspec": {
   "display_name": "Python 3 (ipykernel)",
   "language": "python",
   "name": "python3"
  },
  "language_info": {
   "codemirror_mode": {
    "name": "ipython",
    "version": 3
   },
   "file_extension": ".py",
   "mimetype": "text/x-python",
   "name": "python",
   "nbconvert_exporter": "python",
   "pygments_lexer": "ipython3",
   "version": "3.11.11"
  }
 },
 "nbformat": 4,
 "nbformat_minor": 5
}
